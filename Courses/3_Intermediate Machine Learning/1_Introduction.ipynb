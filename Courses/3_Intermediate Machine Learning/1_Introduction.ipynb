{
 "cells": [
  {
   "cell_type": "markdown",
   "metadata": {},
   "source": [
    "* 머신 러닝 지식을 빠르게 키울 수 있는 학습\n",
    "    * 실세계의 데이터셋에서 흔히 발견할 수 있는 데이터 타입 처리(missing values, categorical variables)\n",
    "    * 머신 러닝 코드 성능 향상을 위한 **pipelines** 설계\n",
    "    * 모델 평가를 위한 고급 기술 사용(cross-validation)\n",
    "    * kaggle competiotions 우승에 널리 사용되는 최첨단 모델 설계(**XGBoost**)\n",
    "    * 일반적이고 중요한 데이터 사이언스 실수(leakage) 피하기"
   ]
  }
 ],
 "metadata": {
  "kernelspec": {
   "display_name": "py36",
   "language": "python",
   "name": "py36"
  },
  "language_info": {
   "codemirror_mode": {
    "name": "ipython",
    "version": 3
   },
   "file_extension": ".py",
   "mimetype": "text/x-python",
   "name": "python",
   "nbconvert_exporter": "python",
   "pygments_lexer": "ipython3",
   "version": "3.6.9"
  }
 },
 "nbformat": 4,
 "nbformat_minor": 2
}
