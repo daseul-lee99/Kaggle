{
 "cells": [
  {
   "cell_type": "markdown",
   "metadata": {},
   "source": [
    "## What is Model Validation\n",
    "\n",
    "* 모델 성능(model quality)의 대부분은 **예측 정확도**와 관련이 있음\n",
    "* 많은 사람들이 예측 정확도를 측정할 때, 학습에 사용한 데이터로 예측하고 결과를 비교함 -> **mistake**\n",
    "<br>\n",
    "\n",
    "* Mean Absolute Error(MAE): 모델 성능 평가를 위한 여러 측정법 중 하나(간단하게 **error**라 부름)\n",
    "    * `error = actual - predicted`\n",
    "    * 위 수식이 각각의 데이터에 대해 수행됨\n",
    "    * 예를 들어, 실제 집 값이 \\$150,000이고, 예측한 값이 \\$100,000일 경우, error는 \\$50,000이 됨\n",
    "    * 각 데이터에 대한 error들을 평균내면, 그 값이 모델의 성능이 됨\n",
    "    * 따라서, X에 대한 우리의 예측 값은 평균(모델의 성능)값만큼 적거나 클 수 있음"
   ]
  },
  {
   "cell_type": "code",
   "execution_count": 3,
   "metadata": {},
   "outputs": [
    {
     "data": {
      "text/plain": [
       "DecisionTreeRegressor(criterion='mse', max_depth=None, max_features=None,\n",
       "                      max_leaf_nodes=None, min_impurity_decrease=0.0,\n",
       "                      min_impurity_split=None, min_samples_leaf=1,\n",
       "                      min_samples_split=2, min_weight_fraction_leaf=0.0,\n",
       "                      presort=False, random_state=None, splitter='best')"
      ]
     },
     "execution_count": 3,
     "metadata": {},
     "output_type": "execute_result"
    }
   ],
   "source": [
    "import pandas as pd\n",
    "\n",
    "## Load data ##\n",
    "melbourne_file_path = '../input/melb_data.csv'\n",
    "melbourne_data = pd.read_csv(melbourne_file_path)\n",
    "\n",
    "## Filter rows with missing price values ##\n",
    "filtered_melbourne_data = melbourne_data.dropna(axis=0)\n",
    "\n",
    "## Choose target and features ##\n",
    "y = filtered_melbourne_data.Price\n",
    "melbourne_features = [\"Rooms\", \"Bathroom\", \"Landsize\", \"BuildingArea\", \"YearBuilt\", \"Lattitude\", \"Longtitude\"]\n",
    "X = filtered_melbourne_data[melbourne_features]\n",
    "\n",
    "from sklearn.tree import DecisionTreeRegressor\n",
    "\n",
    "## Define model ##\n",
    "melbourne_model = DecisionTreeRegressor()\n",
    "\n",
    "## Fit model ##\n",
    "melbourne_model.fit(X, y)"
   ]
  },
  {
   "cell_type": "code",
   "execution_count": 5,
   "metadata": {},
   "outputs": [
    {
     "data": {
      "text/plain": [
       "434.71594577146544"
      ]
     },
     "execution_count": 5,
     "metadata": {},
     "output_type": "execute_result"
    }
   ],
   "source": [
    "from sklearn.metrics import mean_absolute_error\n",
    "\n",
    "predicted_home_prices = melbourne_model.predict(X)\n",
    "mean_absolute_error(y, predicted_home_prices)"
   ]
  },
  {
   "cell_type": "markdown",
   "metadata": {},
   "source": [
    "<br><br>\n",
    "\n",
    "## The Problem with \"In-Sample\" Scores\n",
    "\n",
    "* 위에서 구한 error는 \"in-sample\" 스코어. 모델을 모델링하고 평가하는데 단일 샘플(학습/평가 데이터가 구분되지 않음)만 사용함\n",
    "    * In Sample Error: The error rate you get on the same data set you used to build your predictor.\n",
    "* 학습 데이터로 학습된 모델은 학습 데이터에선 정확한 예측을 하지만, 새로운 데이터에선 예측을 잘 하지 못함\n",
    "* 모델의 성능 평가는 모델이 이전에 보지못한(모델링에 사용하지 않은) 데이터로 이루어짐\n",
    "* 모델의 성능 평가에 사용되는 데이터를 **validation data**라고 함"
   ]
  },
  {
   "cell_type": "markdown",
   "metadata": {},
   "source": [
    "## Coding it\n",
    "\n",
    "* train_test_split(arrays, test_size=0.25, train_size=1-test_size, random_state, shuffle=True, stratify): scikit-learn의 메소드. 데이터셋을 두 그룹으로 나눠줌\n",
    "    * arrays: 전체 데이터셋\n",
    "    * test_size: 전체 데이터셋에서 validation data로 사용할 데이터의 비율\n",
    "    * train_size: test_size의 나머지\n",
    "    * random_state: random을 위한 seed\n",
    "    * shuffle: 데이터 셔플 여부\n",
    "    * stratify: 데이터 값의 비율 유지 여부(stratify=y)\n",
    "        * 예를 들어, **y가 25%의 0, 75%의 1**로 이루어져있을 때 stratify=y로 설정하면 나눠진 데이터 내의 0과 1 비율도 그대로(0:25%, 1:75%) 유지됨\n",
    "\n",
    "* 학습 데이터(training data)는 모델을 fit하는데 사용하고, 평가 데이터(validation data)는 error(MAE)를 계산하는 데 사용"
   ]
  },
  {
   "cell_type": "code",
   "execution_count": 7,
   "metadata": {},
   "outputs": [
    {
     "name": "stdout",
     "output_type": "stream",
     "text": [
      "262095.61200774694\n"
     ]
    }
   ],
   "source": [
    "from sklearn.model_selection import train_test_split\n",
    "\n",
    "\"\"\"\n",
    "split data into training and validation data, for both features and target\n",
    "The split is based on a random number generator. Supplying a numeric value to\n",
    "the random_state argument guarantees we get the same split every tume we\n",
    "run this script.\n",
    "\"\"\"\n",
    "train_X, val_X, train_y, val_y = train_test_split(X, y, random_state=0)\n",
    "\n",
    "## Define model ##\n",
    "melbourne_model = DecisionTreeRegressor()\n",
    "\n",
    "## Fit model ##\n",
    "melbourne_model.fit(train_X, train_y)\n",
    "\n",
    "## get predicted prices on validation data ##\n",
    "val_predictions = melbourne_model.predict(val_X)\n",
    "print(mean_absolute_error(val_y, val_predictions))"
   ]
  },
  {
   "cell_type": "markdown",
   "metadata": {},
   "source": [
    "* in-sample 데이터에서 error는 약 500이었는데, out-of-sample 데이터에서 error는 약 260,000"
   ]
  }
 ],
 "metadata": {
  "kernelspec": {
   "display_name": "py36",
   "language": "python",
   "name": "py36"
  },
  "language_info": {
   "codemirror_mode": {
    "name": "ipython",
    "version": 3
   },
   "file_extension": ".py",
   "mimetype": "text/x-python",
   "name": "python",
   "nbconvert_exporter": "python",
   "pygments_lexer": "ipython3",
   "version": "3.6.9"
  }
 },
 "nbformat": 4,
 "nbformat_minor": 2
}
