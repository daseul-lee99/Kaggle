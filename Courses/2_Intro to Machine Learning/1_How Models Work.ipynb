{
 "cells": [
  {
   "cell_type": "markdown",
   "metadata": {},
   "source": [
    "## Decision Tree\n",
    "\n",
    "* Decision Tree는 이해하기 쉽고, data science에서 가장 좋은 모델들 중 몇몇 모델의 기본 구성 요소\n",
    "<img src=\"../images/2/SampleDecisionTree.png\" width=\"40%\">\n",
    "---\n",
    "<br>\n",
    "#### 집 가격 예측\n",
    "\n",
    "* 기존의 집 가격들(데이터)에서 가격이 정해지는 패턴을 알아내고, 이를 통해 새로운 집에 대한 가격을 예측하는 것\n",
    "* 집을 두 개의 그룹으로 나눌 때 데이터를 사용하고, 나눠진 그룹에서 집의 가격을 예측할 때 데이터를 다시 한 번 사용\n",
    "* 데이터로부터 패턴을 알아내는 것을 \"모델을 **fitting/training**한다\"라고 함\n",
    "* 모델을 fitting/tringing할 때 사용되는 데이터를 **training data**라고 함\n",
    "* 모델이 fit되고나면, 새로운 집에 대한 가격 예측이 가능함\n",
    "---\n",
    "<br>\n",
    "#### Improving the Decision Tree\n",
    "\n",
    "* 다음 두 Decision Tree 중 부동산 학습 데이터를 더 잘 fit 할 tree는?\n",
    "<img src=\"../images/2/TwoDecisionTree.png\" width=\"70%\">\n",
    "* 왼쪽의 Decision Tree가 더 좋음 why? 실제를 더 잘 반영함(더 많은 침실을 가진 집이 더 비쌈)\n",
    "* 이 모델은 화장실의 수, 땅의 크기, 위치와 같은 요소를 고려하지 않는다는 것이 가장 큰 단점\n",
    "\n",
    "<br>\n",
    "<img src=\"../images/2/DeeperTree.png\" width=\"50%\">\n",
    "* 그림처럼 트리를 깊게(deeper tree) 만들어서 더 많은 요소들을 고려하게 할 수 있음"
   ]
  }
 ],
 "metadata": {
  "kernelspec": {
   "display_name": "py36",
   "language": "python",
   "name": "py36"
  },
  "language_info": {
   "codemirror_mode": {
    "name": "ipython",
    "version": 3
   },
   "file_extension": ".py",
   "mimetype": "text/x-python",
   "name": "python",
   "nbconvert_exporter": "python",
   "pygments_lexer": "ipython3",
   "version": "3.6.9"
  }
 },
 "nbformat": 4,
 "nbformat_minor": 2
}
